{
 "cells": [
  {
   "cell_type": "markdown",
   "id": "01a73f62-aa59-450f-946c-4261a78d9224",
   "metadata": {},
   "source": [
    "## Projet6: Classifiez automatiquement des biens de consommation"
   ]
  },
  {
   "cell_type": "markdown",
   "id": "6352a488-df39-4939-ba62-13f09b6db13e",
   "metadata": {},
   "source": [
    "## Contexte <br>\n",
    "Sur la place de marché, des vendeurs proposent des articles à des acheteurs en postant une photo et une description.<br>\n",
    "\n",
    "Pour l'instant, l'attribution de la catégorie d'un article est effectuée manuellement par les vendeurs et est donc peu fiable. De plus, le volume des articles est pour l’instant très petit.<br>\n",
    "\n",
    "Pour rendre l’expérience utilisateur des vendeurs (faciliter la mise en ligne de nouveaux articles) et des acheteurs (faciliter la recherche de produits) la plus fluide possible et dans l'optique d'un passage à l'échelle, il devient nécessaire d'automatiser cette tâche.<br>\n",
    "\n",
    "Linda, lead data scientist, vous demande donc d'étudier la faisabilité d'un moteur de classification des articles en différentes catégories, avec un niveau de précision suffisant."
   ]
  },
  {
   "cell_type": "markdown",
   "id": "d89aff01-3ee1-4215-acbf-60b1311a6556",
   "metadata": {},
   "source": [
    "Votre mission est de réaliser une première étude de faisabilité d'un moteur de classification d'articles basé sur une image et une description pour l'automatisation de l'attribution de la catégorie de l'article.\n",
    "\n",
    "Vous analyserez le jeu de données en réalisant un prétraitement des images et des descriptions des produits, une réduction de dimension, puis un clustering. Les résultats du clustering seront présentés sous la forme d’une représentation en deux dimensions à déterminer, qui ’illustrera le fait que les caractéristiques extraites permettent de regrouper des produits de même catégorie."
   ]
  },
  {
   "cell_type": "markdown",
   "id": "02369c13-b01d-4547-a35f-061847e92b4d",
   "metadata": {},
   "source": [
    "1-Importer les données textuelles"
   ]
  },
  {
   "cell_type": "code",
   "execution_count": 2,
   "id": "07fbfe71-5a20-448b-ad5f-58ae70ed8656",
   "metadata": {},
   "outputs": [],
   "source": [
    "import numpy as np\n",
    "import pandas as pd \n",
    "import matplotlib.pyplot as plt\n",
    "%matplotlib inline\n",
    "\n",
    "data = pd.read_csv(r'C:\\Users\\ROUA\\OneDrive\\Bureau\\openclassrooms\\P6\\Dataset+projet+prétraitement+textes+images\\Flipkart\\flipkart_com-ecommerce_sample_1050.csv')"
   ]
  },
  {
   "cell_type": "code",
   "execution_count": 3,
   "id": "43ecdb9e-8e10-4722-87dd-2f0d688f07b0",
   "metadata": {},
   "outputs": [
    {
     "data": {
      "text/html": [
       "<div>\n",
       "<style scoped>\n",
       "    .dataframe tbody tr th:only-of-type {\n",
       "        vertical-align: middle;\n",
       "    }\n",
       "\n",
       "    .dataframe tbody tr th {\n",
       "        vertical-align: top;\n",
       "    }\n",
       "\n",
       "    .dataframe thead th {\n",
       "        text-align: right;\n",
       "    }\n",
       "</style>\n",
       "<table border=\"1\" class=\"dataframe\">\n",
       "  <thead>\n",
       "    <tr style=\"text-align: right;\">\n",
       "      <th></th>\n",
       "      <th>uniq_id</th>\n",
       "      <th>crawl_timestamp</th>\n",
       "      <th>product_url</th>\n",
       "      <th>product_name</th>\n",
       "      <th>product_category_tree</th>\n",
       "      <th>pid</th>\n",
       "      <th>retail_price</th>\n",
       "      <th>discounted_price</th>\n",
       "      <th>image</th>\n",
       "      <th>is_FK_Advantage_product</th>\n",
       "      <th>description</th>\n",
       "      <th>product_rating</th>\n",
       "      <th>overall_rating</th>\n",
       "      <th>brand</th>\n",
       "      <th>product_specifications</th>\n",
       "    </tr>\n",
       "  </thead>\n",
       "  <tbody>\n",
       "    <tr>\n",
       "      <th>0</th>\n",
       "      <td>55b85ea15a1536d46b7190ad6fff8ce7</td>\n",
       "      <td>2016-04-30 03:22:56 +0000</td>\n",
       "      <td>http://www.flipkart.com/elegance-polyester-mul...</td>\n",
       "      <td>Elegance Polyester Multicolor Abstract Eyelet ...</td>\n",
       "      <td>[\"Home Furnishing &gt;&gt; Curtains &amp; Accessories &gt;&gt;...</td>\n",
       "      <td>CRNEG7BKMFFYHQ8Z</td>\n",
       "      <td>1899.0</td>\n",
       "      <td>899.0</td>\n",
       "      <td>55b85ea15a1536d46b7190ad6fff8ce7.jpg</td>\n",
       "      <td>False</td>\n",
       "      <td>Key Features of Elegance Polyester Multicolor ...</td>\n",
       "      <td>No rating available</td>\n",
       "      <td>No rating available</td>\n",
       "      <td>Elegance</td>\n",
       "      <td>{\"product_specification\"=&gt;[{\"key\"=&gt;\"Brand\", \"v...</td>\n",
       "    </tr>\n",
       "    <tr>\n",
       "      <th>1</th>\n",
       "      <td>7b72c92c2f6c40268628ec5f14c6d590</td>\n",
       "      <td>2016-04-30 03:22:56 +0000</td>\n",
       "      <td>http://www.flipkart.com/sathiyas-cotton-bath-t...</td>\n",
       "      <td>Sathiyas Cotton Bath Towel</td>\n",
       "      <td>[\"Baby Care &gt;&gt; Baby Bath &amp; Skin &gt;&gt; Baby Bath T...</td>\n",
       "      <td>BTWEGFZHGBXPHZUH</td>\n",
       "      <td>600.0</td>\n",
       "      <td>449.0</td>\n",
       "      <td>7b72c92c2f6c40268628ec5f14c6d590.jpg</td>\n",
       "      <td>False</td>\n",
       "      <td>Specifications of Sathiyas Cotton Bath Towel (...</td>\n",
       "      <td>No rating available</td>\n",
       "      <td>No rating available</td>\n",
       "      <td>Sathiyas</td>\n",
       "      <td>{\"product_specification\"=&gt;[{\"key\"=&gt;\"Machine Wa...</td>\n",
       "    </tr>\n",
       "    <tr>\n",
       "      <th>2</th>\n",
       "      <td>64d5d4a258243731dc7bbb1eef49ad74</td>\n",
       "      <td>2016-04-30 03:22:56 +0000</td>\n",
       "      <td>http://www.flipkart.com/eurospa-cotton-terry-f...</td>\n",
       "      <td>Eurospa Cotton Terry Face Towel Set</td>\n",
       "      <td>[\"Baby Care &gt;&gt; Baby Bath &amp; Skin &gt;&gt; Baby Bath T...</td>\n",
       "      <td>BTWEG6SHXTDB2A2Y</td>\n",
       "      <td>NaN</td>\n",
       "      <td>NaN</td>\n",
       "      <td>64d5d4a258243731dc7bbb1eef49ad74.jpg</td>\n",
       "      <td>False</td>\n",
       "      <td>Key Features of Eurospa Cotton Terry Face Towe...</td>\n",
       "      <td>No rating available</td>\n",
       "      <td>No rating available</td>\n",
       "      <td>Eurospa</td>\n",
       "      <td>{\"product_specification\"=&gt;[{\"key\"=&gt;\"Material\",...</td>\n",
       "    </tr>\n",
       "    <tr>\n",
       "      <th>3</th>\n",
       "      <td>d4684dcdc759dd9cdf41504698d737d8</td>\n",
       "      <td>2016-06-20 08:49:52 +0000</td>\n",
       "      <td>http://www.flipkart.com/santosh-royal-fashion-...</td>\n",
       "      <td>SANTOSH ROYAL FASHION Cotton Printed King size...</td>\n",
       "      <td>[\"Home Furnishing &gt;&gt; Bed Linen &gt;&gt; Bedsheets &gt;&gt;...</td>\n",
       "      <td>BDSEJT9UQWHDUBH4</td>\n",
       "      <td>2699.0</td>\n",
       "      <td>1299.0</td>\n",
       "      <td>d4684dcdc759dd9cdf41504698d737d8.jpg</td>\n",
       "      <td>False</td>\n",
       "      <td>Key Features of SANTOSH ROYAL FASHION Cotton P...</td>\n",
       "      <td>No rating available</td>\n",
       "      <td>No rating available</td>\n",
       "      <td>SANTOSH ROYAL FASHION</td>\n",
       "      <td>{\"product_specification\"=&gt;[{\"key\"=&gt;\"Brand\", \"v...</td>\n",
       "    </tr>\n",
       "    <tr>\n",
       "      <th>4</th>\n",
       "      <td>6325b6870c54cd47be6ebfbffa620ec7</td>\n",
       "      <td>2016-06-20 08:49:52 +0000</td>\n",
       "      <td>http://www.flipkart.com/jaipur-print-cotton-fl...</td>\n",
       "      <td>Jaipur Print Cotton Floral King sized Double B...</td>\n",
       "      <td>[\"Home Furnishing &gt;&gt; Bed Linen &gt;&gt; Bedsheets &gt;&gt;...</td>\n",
       "      <td>BDSEJTHNGWVGWWQU</td>\n",
       "      <td>2599.0</td>\n",
       "      <td>698.0</td>\n",
       "      <td>6325b6870c54cd47be6ebfbffa620ec7.jpg</td>\n",
       "      <td>False</td>\n",
       "      <td>Key Features of Jaipur Print Cotton Floral Kin...</td>\n",
       "      <td>No rating available</td>\n",
       "      <td>No rating available</td>\n",
       "      <td>Jaipur Print</td>\n",
       "      <td>{\"product_specification\"=&gt;[{\"key\"=&gt;\"Machine Wa...</td>\n",
       "    </tr>\n",
       "  </tbody>\n",
       "</table>\n",
       "</div>"
      ],
      "text/plain": [
       "                            uniq_id            crawl_timestamp  \\\n",
       "0  55b85ea15a1536d46b7190ad6fff8ce7  2016-04-30 03:22:56 +0000   \n",
       "1  7b72c92c2f6c40268628ec5f14c6d590  2016-04-30 03:22:56 +0000   \n",
       "2  64d5d4a258243731dc7bbb1eef49ad74  2016-04-30 03:22:56 +0000   \n",
       "3  d4684dcdc759dd9cdf41504698d737d8  2016-06-20 08:49:52 +0000   \n",
       "4  6325b6870c54cd47be6ebfbffa620ec7  2016-06-20 08:49:52 +0000   \n",
       "\n",
       "                                         product_url  \\\n",
       "0  http://www.flipkart.com/elegance-polyester-mul...   \n",
       "1  http://www.flipkart.com/sathiyas-cotton-bath-t...   \n",
       "2  http://www.flipkart.com/eurospa-cotton-terry-f...   \n",
       "3  http://www.flipkart.com/santosh-royal-fashion-...   \n",
       "4  http://www.flipkart.com/jaipur-print-cotton-fl...   \n",
       "\n",
       "                                        product_name  \\\n",
       "0  Elegance Polyester Multicolor Abstract Eyelet ...   \n",
       "1                         Sathiyas Cotton Bath Towel   \n",
       "2                Eurospa Cotton Terry Face Towel Set   \n",
       "3  SANTOSH ROYAL FASHION Cotton Printed King size...   \n",
       "4  Jaipur Print Cotton Floral King sized Double B...   \n",
       "\n",
       "                               product_category_tree               pid  \\\n",
       "0  [\"Home Furnishing >> Curtains & Accessories >>...  CRNEG7BKMFFYHQ8Z   \n",
       "1  [\"Baby Care >> Baby Bath & Skin >> Baby Bath T...  BTWEGFZHGBXPHZUH   \n",
       "2  [\"Baby Care >> Baby Bath & Skin >> Baby Bath T...  BTWEG6SHXTDB2A2Y   \n",
       "3  [\"Home Furnishing >> Bed Linen >> Bedsheets >>...  BDSEJT9UQWHDUBH4   \n",
       "4  [\"Home Furnishing >> Bed Linen >> Bedsheets >>...  BDSEJTHNGWVGWWQU   \n",
       "\n",
       "   retail_price  discounted_price                                 image  \\\n",
       "0        1899.0             899.0  55b85ea15a1536d46b7190ad6fff8ce7.jpg   \n",
       "1         600.0             449.0  7b72c92c2f6c40268628ec5f14c6d590.jpg   \n",
       "2           NaN               NaN  64d5d4a258243731dc7bbb1eef49ad74.jpg   \n",
       "3        2699.0            1299.0  d4684dcdc759dd9cdf41504698d737d8.jpg   \n",
       "4        2599.0             698.0  6325b6870c54cd47be6ebfbffa620ec7.jpg   \n",
       "\n",
       "   is_FK_Advantage_product                                        description  \\\n",
       "0                    False  Key Features of Elegance Polyester Multicolor ...   \n",
       "1                    False  Specifications of Sathiyas Cotton Bath Towel (...   \n",
       "2                    False  Key Features of Eurospa Cotton Terry Face Towe...   \n",
       "3                    False  Key Features of SANTOSH ROYAL FASHION Cotton P...   \n",
       "4                    False  Key Features of Jaipur Print Cotton Floral Kin...   \n",
       "\n",
       "        product_rating       overall_rating                  brand  \\\n",
       "0  No rating available  No rating available               Elegance   \n",
       "1  No rating available  No rating available               Sathiyas   \n",
       "2  No rating available  No rating available                Eurospa   \n",
       "3  No rating available  No rating available  SANTOSH ROYAL FASHION   \n",
       "4  No rating available  No rating available           Jaipur Print   \n",
       "\n",
       "                              product_specifications  \n",
       "0  {\"product_specification\"=>[{\"key\"=>\"Brand\", \"v...  \n",
       "1  {\"product_specification\"=>[{\"key\"=>\"Machine Wa...  \n",
       "2  {\"product_specification\"=>[{\"key\"=>\"Material\",...  \n",
       "3  {\"product_specification\"=>[{\"key\"=>\"Brand\", \"v...  \n",
       "4  {\"product_specification\"=>[{\"key\"=>\"Machine Wa...  "
      ]
     },
     "execution_count": 3,
     "metadata": {},
     "output_type": "execute_result"
    }
   ],
   "source": [
    "#discovering data\n",
    "data.head()"
   ]
  },
  {
   "cell_type": "markdown",
   "id": "6f2a13f3-2393-46f6-9b41-6157a3341b65",
   "metadata": {},
   "source": [
    "Stratégie à suivre:\n",
    " 1-Les champs de texte sont nettoyés (retirer la ponctuation, les mots de liaison, mettre tout en minuscule) <br>\n",
    " 2-Une fonction permettant de “tokeniser” une phrase a été écrite et fonctionne correctement <br>\n",
    " 3-Une fonction permettant de “stemmer” une phrase a été écrite et fonctionne correctement <br>\n",
    " 4-Une fonction permettant de “lemmatiser” une phrase a été écrite et fonctionne correctement <br>\n",
    " 5-Des features bag-of-word sont construites (avec étapes de nettoyage supplémentaires : seuil de fréquence des mots, normalisation des mots (racines, utilisation du package NLTK)) <br>\n",
    " *Une phrase (ou un court texte) d'exemple permet d'illustrer et de tester la bonne réalisation des 5 étapes précédentes"
   ]
  },
  {
   "cell_type": "code",
   "execution_count": 129,
   "id": "6e854bd9-7641-4d23-994f-3b018c1e0489",
   "metadata": {},
   "outputs": [
    {
     "data": {
      "text/plain": [
       "uniq_id                                 object\n",
       "crawl_timestamp            datetime64[ns, UTC]\n",
       "product_url                             object\n",
       "product_name                            object\n",
       "product_category_tree                   object\n",
       "pid                                     object\n",
       "retail_price                           float64\n",
       "discounted_price                       float64\n",
       "image                                   object\n",
       "is_FK_Advantage_product                   bool\n",
       "description                             object\n",
       "product_rating                          object\n",
       "overall_rating                          object\n",
       "brand                                   object\n",
       "product_specifications                  object\n",
       "main_category                           object\n",
       "dtype: object"
      ]
     },
     "execution_count": 129,
     "metadata": {},
     "output_type": "execute_result"
    }
   ],
   "source": [
    "data.dtypes"
   ]
  },
  {
   "cell_type": "code",
   "execution_count": 128,
   "id": "2b15fea5-2639-4bbf-840e-2f659c5712ed",
   "metadata": {},
   "outputs": [],
   "source": [
    "data.crawl_timestamp = pd.to_datetime(data.crawl_timestamp)"
   ]
  },
  {
   "cell_type": "code",
   "execution_count": 130,
   "id": "069d8731-a615-4033-ae5f-930517140f96",
   "metadata": {},
   "outputs": [
    {
     "data": {
      "text/plain": [
       "(1050, 16)"
      ]
     },
     "execution_count": 130,
     "metadata": {},
     "output_type": "execute_result"
    }
   ],
   "source": [
    "data.shape"
   ]
  },
  {
   "cell_type": "code",
   "execution_count": 6,
   "id": "40179174-6431-496f-b577-4bd4d24369df",
   "metadata": {},
   "outputs": [
    {
     "data": {
      "text/plain": [
       "uniq_id                      0\n",
       "crawl_timestamp              0\n",
       "product_url                  0\n",
       "product_name                 0\n",
       "product_category_tree        0\n",
       "pid                          0\n",
       "retail_price                 1\n",
       "discounted_price             1\n",
       "image                        0\n",
       "is_FK_Advantage_product      0\n",
       "description                  0\n",
       "product_rating               0\n",
       "overall_rating               0\n",
       "brand                      338\n",
       "product_specifications       1\n",
       "dtype: int64"
      ]
     },
     "execution_count": 6,
     "metadata": {},
     "output_type": "execute_result"
    }
   ],
   "source": [
    "data.isnull().sum()"
   ]
  },
  {
   "cell_type": "code",
   "execution_count": 125,
   "id": "7b9bde43-878c-4d97-803a-ef0a4d2ab964",
   "metadata": {},
   "outputs": [],
   "source": [
    "#feature engineering extract main category from product_category_tree\n",
    "def extract_main_category(sentence):\n",
    "    \n",
    "    s =sentence.split('>>')[0]\n",
    "    s = ''.join(ch for ch in s if ch.isalnum())\n",
    "    return s\n",
    "data['main_category'] =data.product_category_tree.apply(lambda tree: extract_main_category(tree))\n"
   ]
  },
  {
   "cell_type": "code",
   "execution_count": 126,
   "id": "7e060bb0-56e1-4cda-996f-28a72e30cf81",
   "metadata": {},
   "outputs": [
    {
     "data": {
      "text/plain": [
       "0       HomeFurnishing\n",
       "1             BabyCare\n",
       "2             BabyCare\n",
       "3       HomeFurnishing\n",
       "4       HomeFurnishing\n",
       "             ...      \n",
       "1045          BabyCare\n",
       "1046          BabyCare\n",
       "1047          BabyCare\n",
       "1048          BabyCare\n",
       "1049          BabyCare\n",
       "Name: main_category, Length: 1050, dtype: object"
      ]
     },
     "execution_count": 126,
     "metadata": {},
     "output_type": "execute_result"
    }
   ],
   "source": [
    "data.main_category"
   ]
  },
  {
   "cell_type": "code",
   "execution_count": 127,
   "id": "b36aa898-825f-4834-a168-741c02e45cbb",
   "metadata": {},
   "outputs": [
    {
     "data": {
      "text/plain": [
       "<AxesSubplot:ylabel='main_category'>"
      ]
     },
     "execution_count": 127,
     "metadata": {},
     "output_type": "execute_result"
    },
    {
     "data": {
      "image/png": "[encoded data removed]",
      "text/plain": [
       "<Figure size 432x288 with 1 Axes>"
      ]
     },
     "metadata": {},
     "output_type": "display_data"
    }
   ],
   "source": [
    "data.main_category.value_counts().plot(kind='pie',autopct='%1.1f%%')"
   ]
  },
  {
   "cell_type": "markdown",
   "id": "30045d80-36df-42ad-b1da-2e470bbf0be9",
   "metadata": {},
   "source": [
    "Les distribution des catégories est équitable."
   ]
  },
  {
   "cell_type": "markdown",
   "id": "f16be963-5cfb-432b-ad1e-1421c79c4ec6",
   "metadata": {},
   "source": [
    "**EDA"
   ]
  },
  {
   "cell_type": "code",
   "execution_count": 131,
   "id": "56baf294-298a-4c57-8116-7a487d4b4f33",
   "metadata": {},
   "outputs": [
    {
     "data": {
      "text/html": [
       "<div>\n",
       "<style scoped>\n",
       "    .dataframe tbody tr th:only-of-type {\n",
       "        vertical-align: middle;\n",
       "    }\n",
       "\n",
       "    .dataframe tbody tr th {\n",
       "        vertical-align: top;\n",
       "    }\n",
       "\n",
       "    .dataframe thead th {\n",
       "        text-align: right;\n",
       "    }\n",
       "</style>\n",
       "<table border=\"1\" class=\"dataframe\">\n",
       "  <thead>\n",
       "    <tr style=\"text-align: right;\">\n",
       "      <th></th>\n",
       "      <th>retail_price</th>\n",
       "      <th>discounted_price</th>\n",
       "    </tr>\n",
       "  </thead>\n",
       "  <tbody>\n",
       "    <tr>\n",
       "      <th>count</th>\n",
       "      <td>1049.000000</td>\n",
       "      <td>1049.000000</td>\n",
       "    </tr>\n",
       "    <tr>\n",
       "      <th>mean</th>\n",
       "      <td>2186.197331</td>\n",
       "      <td>1584.527169</td>\n",
       "    </tr>\n",
       "    <tr>\n",
       "      <th>std</th>\n",
       "      <td>7639.229411</td>\n",
       "      <td>7475.099680</td>\n",
       "    </tr>\n",
       "    <tr>\n",
       "      <th>min</th>\n",
       "      <td>35.000000</td>\n",
       "      <td>35.000000</td>\n",
       "    </tr>\n",
       "    <tr>\n",
       "      <th>25%</th>\n",
       "      <td>555.000000</td>\n",
       "      <td>340.000000</td>\n",
       "    </tr>\n",
       "    <tr>\n",
       "      <th>50%</th>\n",
       "      <td>999.000000</td>\n",
       "      <td>600.000000</td>\n",
       "    </tr>\n",
       "    <tr>\n",
       "      <th>75%</th>\n",
       "      <td>1999.000000</td>\n",
       "      <td>1199.000000</td>\n",
       "    </tr>\n",
       "    <tr>\n",
       "      <th>max</th>\n",
       "      <td>201000.000000</td>\n",
       "      <td>201000.000000</td>\n",
       "    </tr>\n",
       "  </tbody>\n",
       "</table>\n",
       "</div>"
      ],
      "text/plain": [
       "        retail_price  discounted_price\n",
       "count    1049.000000       1049.000000\n",
       "mean     2186.197331       1584.527169\n",
       "std      7639.229411       7475.099680\n",
       "min        35.000000         35.000000\n",
       "25%       555.000000        340.000000\n",
       "50%       999.000000        600.000000\n",
       "75%      1999.000000       1199.000000\n",
       "max    201000.000000     201000.000000"
      ]
     },
     "execution_count": 131,
     "metadata": {},
     "output_type": "execute_result"
    }
   ],
   "source": [
    "data.describe()"
   ]
  },
  {
   "cell_type": "code",
   "execution_count": 132,
   "id": "cbfa4d7f-ec32-434b-b9f7-3a5b8ae98e13",
   "metadata": {},
   "outputs": [
    {
     "name": "stderr",
     "output_type": "stream",
     "text": [
      "<ipython-input-132-f9a49afea239>:1: FutureWarning: Treating datetime data as categorical rather than numeric in `.describe` is deprecated and will be removed in a future version of pandas. Specify `datetime_is_numeric=True` to silence this warning and adopt the future behavior now.\n",
      "  data.crawl_timestamp.describe()\n"
     ]
    },
    {
     "data": {
      "text/plain": [
       "count                          1050\n",
       "unique                          149\n",
       "top       2015-12-01 12:40:44+00:00\n",
       "freq                            150\n",
       "first     2015-12-01 06:13:00+00:00\n",
       "last      2016-06-26 14:21:24+00:00\n",
       "Name: crawl_timestamp, dtype: object"
      ]
     },
     "execution_count": 132,
     "metadata": {},
     "output_type": "execute_result"
    }
   ],
   "source": [
    "data.crawl_timestamp.describe()"
   ]
  },
  {
   "cell_type": "code",
   "execution_count": 133,
   "id": "1ac96ea4-6b0b-4463-92eb-1e2ede31f57c",
   "metadata": {},
   "outputs": [],
   "source": [
    "data['month'] = data['crawl_timestamp'].dt.month"
   ]
  },
  {
   "cell_type": "code",
   "execution_count": 138,
   "id": "5dba5df4-57a1-49b9-b47d-5735255a99ad",
   "metadata": {},
   "outputs": [
    {
     "data": {
      "text/plain": [
       "<AxesSubplot:xlabel='month'>"
      ]
     },
     "execution_count": 138,
     "metadata": {},
     "output_type": "execute_result"
    },
    {
     "data": {
      "image/png": "[encoded data removed]",
      "text/plain": [
       "<Figure size 432x288 with 1 Axes>"
      ]
     },
     "metadata": {
      "needs_background": "light"
     },
     "output_type": "display_data"
    }
   ],
   "source": [
    "data[['retail_price','discounted_price','month']].groupby('month').sum().plot(kind='bar')"
   ]
  },
  {
   "cell_type": "markdown",
   "id": "df42b6a2-9d75-435a-8047-a62adbbaa843",
   "metadata": {},
   "source": [
    "Les plus des ventes ont eu lieu le mois de décembre."
   ]
  },
  {
   "cell_type": "code",
   "execution_count": 140,
   "id": "95adf708-bc66-4fb3-af44-a8d03af32c0b",
   "metadata": {},
   "outputs": [
    {
     "data": {
      "text/plain": [
       "<AxesSubplot:xlabel='main_category'>"
      ]
     },
     "execution_count": 140,
     "metadata": {},
     "output_type": "execute_result"
    },
    {
     "data": {
      "image/png": "[encoded data removed]",
      "text/plain": [
       "<Figure size 432x288 with 1 Axes>"
      ]
     },
     "metadata": {
      "needs_background": "light"
     },
     "output_type": "display_data"
    }
   ],
   "source": [
    "data[['retail_price','main_category']].groupby('main_category').sum().plot(kind='bar')"
   ]
  },
  {
   "cell_type": "markdown",
   "id": "cb4aadee-a573-4fa7-90c9-8ad165b9c660",
   "metadata": {},
   "source": [
    "Les catégories les plus vendues sont les ordinateurs puis les montres."
   ]
  },
  {
   "cell_type": "code",
   "execution_count": 141,
   "id": "8b534245-2546-4462-816c-39b55ce9f643",
   "metadata": {},
   "outputs": [
    {
     "data": {
      "text/plain": [
       "<AxesSubplot:xlabel='main_category'>"
      ]
     },
     "execution_count": 141,
     "metadata": {},
     "output_type": "execute_result"
    },
    {
     "data": {
      "image/png": "[encoded data removed]",
      "text/plain": [
       "<Figure size 432x288 with 1 Axes>"
      ]
     },
     "metadata": {
      "needs_background": "light"
     },
     "output_type": "display_data"
    }
   ],
   "source": [
    "data[['discounted_price','main_category']].groupby('main_category').sum().plot(kind='bar')"
   ]
  },
  {
   "cell_type": "markdown",
   "id": "c4e5ea7e-bf31-4b17-896e-f267438e4669",
   "metadata": {},
   "source": [
    "Les meilleures réductions ont touchés la catéorie des montres."
   ]
  },
  {
   "cell_type": "code",
   "execution_count": 142,
   "id": "66e2b67b-9b19-48d4-a397-55e1ddaa6ab7",
   "metadata": {},
   "outputs": [
    {
     "data": {
      "text/plain": [
       "<AxesSubplot:xlabel='month'>"
      ]
     },
     "execution_count": 142,
     "metadata": {},
     "output_type": "execute_result"
    },
    {
     "data": {
      "image/png": "[encoded data removed]",
      "text/plain": [
       "<Figure size 432x288 with 1 Axes>"
      ]
     },
     "metadata": {
      "needs_background": "light"
     },
     "output_type": "display_data"
    }
   ],
   "source": [
    "data[['discounted_price','month']].groupby('month').sum().plot(kind='bar')"
   ]
  },
  {
   "cell_type": "markdown",
   "id": "345ebb8a-3cd9-4d87-b423-2912cc218d27",
   "metadata": {},
   "source": [
    "Des importantes réductions ont eu lieu le mois de décembre (2015) ce qui justifie le grand nombre de vente pendant ce mois."
   ]
  },
  {
   "cell_type": "markdown",
   "id": "2e9f5eee-e7c0-4203-812d-4a6e85765231",
   "metadata": {},
   "source": [
    "**Prétraitement de texte"
   ]
  },
  {
   "cell_type": "code",
   "execution_count": 29,
   "id": "468ee9bb-d812-444c-8606-5da9b854a972",
   "metadata": {},
   "outputs": [],
   "source": [
    "textual_data=data[['product_url','product_name','product_category_tree','description','brand','product_specifications']]"
   ]
  },
  {
   "cell_type": "code",
   "execution_count": 54,
   "id": "2bfe152e-c24f-4772-87cf-185fcd285f0d",
   "metadata": {},
   "outputs": [
    {
     "name": "stderr",
     "output_type": "stream",
     "text": [
      "[nltk_data] Downloading package punkt to\n",
      "[nltk_data]     C:\\Users\\ROUA\\AppData\\Roaming\\nltk_data...\n",
      "[nltk_data]   Package punkt is already up-to-date!\n",
      "[nltk_data] Downloading package stopwords to\n",
      "[nltk_data]     C:\\Users\\ROUA\\AppData\\Roaming\\nltk_data...\n",
      "[nltk_data]   Unzipping corpora\\stopwords.zip.\n"
     ]
    },
    {
     "data": {
      "text/plain": [
       "True"
      ]
     },
     "execution_count": 54,
     "metadata": {},
     "output_type": "execute_result"
    }
   ],
   "source": [
    "import nltk\n",
    "nltk.download('punkt')\n",
    "nltk.download('stopwords')"
   ]
  },
  {
   "cell_type": "code",
   "execution_count": 33,
   "id": "010ef104-42d0-4b0e-89c0-ec778cdeb946",
   "metadata": {},
   "outputs": [
    {
     "name": "stderr",
     "output_type": "stream",
     "text": [
      "<ipython-input-33-730f54354da8>:3: SettingWithCopyWarning: \n",
      "A value is trying to be set on a copy of a slice from a DataFrame\n",
      "\n",
      "See the caveats in the documentation: https://pandas.pydata.org/pandas-docs/stable/user_guide/indexing.html#returning-a-view-versus-a-copy\n",
      "  test.dropna(inplace=True)\n",
      "<ipython-input-33-730f54354da8>:5: SettingWithCopyWarning: \n",
      "A value is trying to be set on a copy of a slice from a DataFrame\n",
      "\n",
      "See the caveats in the documentation: https://pandas.pydata.org/pandas-docs/stable/user_guide/indexing.html#returning-a-view-versus-a-copy\n",
      "  test[\"tokens\"] = test.apply(nltk.word_tokenize)\n"
     ]
    },
    {
     "data": {
      "text/plain": [
       "'    text = nltk.Text(tokens)\\n    words = [w.lower() for w in text]'"
      ]
     },
     "execution_count": 33,
     "metadata": {},
     "output_type": "execute_result"
    }
   ],
   "source": [
    "import nltk\n",
    "test = textual_data['description']\n",
    "test.dropna(inplace=True)\n",
    "\n",
    "test[\"tokens\"] = test.apply(nltk.word_tokenize)\n",
    "test[\"tokens\"] = [w.lower() for w in test[\"tokens\"]]\n"
   ]
  },
  {
   "cell_type": "code",
   "execution_count": 64,
   "id": "2103c7a7-81a0-4604-ab99-81db3aacbefb",
   "metadata": {},
   "outputs": [],
   "source": [
    "from nltk.corpus import stopwords\n",
    "stop_words = set(stopwords.words('english'))"
   ]
  },
  {
   "cell_type": "code",
   "execution_count": 91,
   "id": "b1f3d4f6-4038-4db0-b352-322fe42d290f",
   "metadata": {},
   "outputs": [],
   "source": [
    "import re\n",
    "from nltk import word_tokenize\n",
    "def custom_tokenizer(sentence):\n",
    "    #deleting numbers from sentence\n",
    "    pattern = r'[0-9]'\n",
    "    sentence = re.sub(pattern, '', sentence)\n",
    "    #splitting to words\n",
    "    words = word_tokenize(sentence.lower())\n",
    "    #delete punctuations\n",
    "    sentence =[word.strip(string.punctuation) for word in words]\n",
    "    #transforming words to lower case\n",
    "    sentence = [w.lower() for w in sentence]\n",
    "    #deleting english stop words\n",
    "    filtered_sentence = [w for w in sentence if not w in stop_words]\n",
    "\n",
    "    return ' '.join(filtered_sentence)\n",
    "    "
   ]
  },
  {
   "cell_type": "code",
   "execution_count": 92,
   "id": "39fe8900-ff97-41c2-a4df-179867433690",
   "metadata": {},
   "outputs": [
    {
     "data": {
      "text/plain": [
       "'hello   people hhh       first'"
      ]
     },
     "execution_count": 92,
     "metadata": {},
     "output_type": "execute_result"
    }
   ],
   "source": [
    "custom_tokenizer('Hello ,!People HHH a about be 2????++* after first')"
   ]
  },
  {
   "cell_type": "code",
   "execution_count": 93,
   "id": "5cc9704a-31ed-42d8-9eaa-592bad35a026",
   "metadata": {},
   "outputs": [],
   "source": [
    "from nltk.stem.snowball import SnowballStemmer\n",
    "def custom_stemmer(sentence):\n",
    "    s_stemmer = SnowballStemmer(language='english')\n",
    "    words = word_tokenize(sentence.lower())\n",
    "    stemmed_words=[]\n",
    "    for w in words:\n",
    "        stemmed_words.append(s_stemmer.stem(w))\n",
    "        \n",
    "    return ' '.join(stemmed_words)"
   ]
  },
  {
   "cell_type": "code",
   "execution_count": 94,
   "id": "9c4bce9d-8b51-4ef0-9aea-680936234306",
   "metadata": {},
   "outputs": [
    {
     "data": {
      "text/plain": [
       "'program program program programm'"
      ]
     },
     "execution_count": 94,
     "metadata": {},
     "output_type": "execute_result"
    }
   ],
   "source": [
    "custom_stemmer('program programming programs programmer')"
   ]
  },
  {
   "cell_type": "code",
   "execution_count": 97,
   "id": "15118dbd-b9be-4fbe-a2e0-e4a2be3c9d36",
   "metadata": {},
   "outputs": [
    {
     "name": "stderr",
     "output_type": "stream",
     "text": [
      "[nltk_data] Downloading package wordnet to\n",
      "[nltk_data]     C:\\Users\\ROUA\\AppData\\Roaming\\nltk_data...\n",
      "[nltk_data]   Unzipping corpora\\wordnet.zip.\n"
     ]
    }
   ],
   "source": [
    "from nltk.stem import WordNetLemmatizer\n",
    "nltk.download('wordnet') \n",
    "lemma =WordNetLemmatizer()\n",
    "def custom_lemmatization(sentence):\n",
    "    tokens = word_tokenize(sentence.lower())#split different then  word_tokenize \n",
    "    tokens = [lemma.lemmatize(lemma.lemmatize(lemma.lemmatize(w,'v'),'n'),'a') for w in tokens]\n",
    "    return ' '.join(tokens)\n",
    "#df['Content'] =df.Content.apply(lambda sent: lemmatize(sent))\n"
   ]
  },
  {
   "cell_type": "code",
   "execution_count": 100,
   "id": "0440de20-0962-4b53-b39e-f93ba03ac086",
   "metadata": {},
   "outputs": [
    {
     "data": {
      "text/plain": [
       "'hello , ! friend hhh a about be 2 ? ? ? ? ++ * after first bring keep away'"
      ]
     },
     "execution_count": 100,
     "metadata": {},
     "output_type": "execute_result"
    }
   ],
   "source": [
    "custom_lemmatization('Hello ,!friends HHH a about be 2????++* after first brought kept away')"
   ]
  },
  {
   "cell_type": "code",
   "execution_count": 68,
   "id": "fb266689-c202-49e0-a6d3-4e67fe5e225b",
   "metadata": {},
   "outputs": [
    {
     "data": {
      "text/plain": [
       "'[\"Home Furnishing >> Curtains & Accessories >> Curtains >> Elegance Polyester Multicolor Abstract Eyelet Do...\"]'"
      ]
     },
     "execution_count": 68,
     "metadata": {},
     "output_type": "execute_result"
    }
   ],
   "source": [
    "data.product_category_tree[0]"
   ]
  },
  {
   "cell_type": "code",
   "execution_count": 101,
   "id": "e8b31091-cb37-4e45-bbc3-e6a2536ac7bb",
   "metadata": {},
   "outputs": [
    {
     "name": "stdout",
     "output_type": "stream",
     "text": [
      "   good  job  miss\n",
      "0     1    1     1\n",
      "1     1    0     0\n"
     ]
    }
   ],
   "source": [
    "#bag of words using sklearn\n",
    "import pandas as pd\n",
    "from sklearn.feature_extraction.text import CountVectorizer, TfidfVectorizer\n",
    " \n",
    "sentence_1=\"This is a good job.I will not miss it for anything\"\n",
    "sentence_2=\"This is not good at all\"\n",
    " \n",
    " \n",
    " \n",
    "CountVec = CountVectorizer(ngram_range=(1,1), # to use bigrams ngram_range=(2,2)\n",
    "                           stop_words='english')\n",
    "#transform\n",
    "Count_data = CountVec.fit_transform([sentence_1,sentence_2])\n",
    " \n",
    "#create dataframe\n",
    "cv_dataframe=pd.DataFrame(Count_data.toarray(),columns=CountVec.get_feature_names())\n",
    "print(cv_dataframe)"
   ]
  },
  {
   "cell_type": "code",
   "execution_count": null,
   "id": "d86c15ee-b8e6-44e6-91f6-23a0ca480326",
   "metadata": {},
   "outputs": [],
   "source": []
  }
 ],
 "metadata": {
  "kernelspec": {
   "display_name": "Python 3",
   "language": "python",
   "name": "python3"
  },
  "language_info": {
   "codemirror_mode": {
    "name": "ipython",
    "version": 3
   },
   "file_extension": ".py",
   "mimetype": "text/x-python",
   "name": "python",
   "nbconvert_exporter": "python",
   "pygments_lexer": "ipython3",
   "version": "3.8.8"
  }
 },
 "nbformat": 4,
 "nbformat_minor": 5
}
